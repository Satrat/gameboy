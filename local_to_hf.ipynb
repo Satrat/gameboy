{
 "cells": [
  {
   "cell_type": "code",
   "execution_count": null,
   "id": "69c3bf83",
   "metadata": {},
   "outputs": [],
   "source": [
    "## Upload Local Dataset to Hugging Face"
   ]
  },
  {
   "cell_type": "code",
   "execution_count": null,
   "id": "193ea5ed",
   "metadata": {},
   "outputs": [],
   "source": [
    "import pandas as pd\n",
    "import re\n",
    "from datasets import Dataset, Features, Value, Image, DatasetDict\n",
    "import random"
   ]
  },
  {
   "cell_type": "code",
   "execution_count": null,
   "id": "87ced739",
   "metadata": {},
   "outputs": [],
   "source": [
    "df = pd.read_csv('face_data.csv')\n",
    "\n",
    "# Extract source IDs from degraded_input_path\n",
    "def extract_source_id(path):\n",
    "    filename = path.split('/')[-1]  # Get just the filename\n",
    "    match = re.match(r'(\\d+_\\d+_\\d+_\\d+)', filename)\n",
    "    return match.group(1) if match else None\n",
    "\n",
    "df['source_id'] = df['input_path'].apply(extract_source_id)\n",
    "\n",
    "# Get unique source IDs and split them\n",
    "unique_source_ids = df['source_id'].unique().tolist()\n",
    "random.seed(30)\n",
    "random.shuffle(unique_source_ids)\n",
    "\n",
    "test_size = 0.05\n",
    "split_point = int(len(unique_source_ids) * (1 - test_size))\n",
    "train_source_ids = unique_source_ids[:split_point]\n",
    "test_source_ids = unique_source_ids[split_point:]\n",
    "\n",
    "# Split dataframes\n",
    "train_df = df[df['source_id'].isin(train_source_ids)].reset_index(drop=True)\n",
    "test_df = df[df['source_id'].isin(test_source_ids)].reset_index(drop=True)\n",
    "\n",
    "def load_images(example):\n",
    "    example['input_image'] = example['input_path']\n",
    "    example['output_image'] = example['output_path']\n",
    "    return example\n",
    "\n",
    "features = Features({\n",
    "    'contrast': Value('float64'),\n",
    "    'brightness': Value('float64'),\n",
    "    'noise': Value('float64'), \n",
    "    'edge_enhance': Value('bool'),\n",
    "    'agg_contrast': Value('bool'),\n",
    "    'severity': Value('string'),\n",
    "    'input_image': Image(),\n",
    "    'output_image': Image(),\n",
    "    'original_input_path': Value('string'),\n",
    "    'input_path': Value('string'),\n",
    "    'output_path': Value('string'),\n",
    "    'source_id': Value('string')\n",
    "})"
   ]
  },
  {
   "cell_type": "code",
   "execution_count": null,
   "id": "78957c42",
   "metadata": {},
   "outputs": [],
   "source": [
    "train_dataset = Dataset.from_pandas(train_df, features=features)\n",
    "test_dataset = Dataset.from_pandas(test_df, features=features)\n",
    "\n",
    "train_dataset = train_dataset.map(load_images)\n",
    "test_dataset = test_dataset.map(load_images)\n",
    "\n",
    "split_dataset = DatasetDict({\n",
    "    'train': train_dataset,\n",
    "    'test': test_dataset\n",
    "})"
   ]
  },
  {
   "cell_type": "code",
   "execution_count": null,
   "id": "c3116fa7",
   "metadata": {},
   "outputs": [],
   "source": [
    "split_dataset.push_to_hub(\"Satrat/gameboy-faces\")"
   ]
  }
 ],
 "metadata": {
  "kernelspec": {
   "display_name": "gb",
   "language": "python",
   "name": "python3"
  },
  "language_info": {
   "codemirror_mode": {
    "name": "ipython",
    "version": 3
   },
   "file_extension": ".py",
   "mimetype": "text/x-python",
   "name": "python",
   "nbconvert_exporter": "python",
   "pygments_lexer": "ipython3",
   "version": "3.10.18"
  }
 },
 "nbformat": 4,
 "nbformat_minor": 5
}
